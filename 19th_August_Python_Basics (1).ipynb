{
 "cells": [
  {
   "cell_type": "code",
   "execution_count": 23,
   "id": "7977a5ef-4cb4-4fa5-9c0e-009ebf74df55",
   "metadata": {},
   "outputs": [],
   "source": [
    "# TOPIC: Python Basics Variable"
   ]
  },
  {
   "cell_type": "code",
   "execution_count": 8,
   "id": "c910a383-fc75-49c7-8f91-9566a21068b0",
   "metadata": {},
   "outputs": [
    {
     "name": "stdout",
     "output_type": "stream",
     "text": [
      "Value of a 20\n",
      "Value of b 10\n"
     ]
    }
   ],
   "source": [
    "# 1. Declare two variables, `x` and `y`, and assign them integer values. Swap the \n",
    "# values of these variables without using any temporary variable.\n",
    "\n",
    "# Declare variable name and assigning integer value.\n",
    "a=10\n",
    "# Declare variable name and assigning integer value.\n",
    "b=20\n",
    "# Assignment operator swaps integer value without using temporary variable.\n",
    "a,b=b,a\n",
    "# Print swapped integer value of variable 'a'\n",
    "print(\"Value of a\",a)\n",
    "# Print swapped integer value of variable 'b'\n",
    "print(\"Value of b\",b)\n",
    "\n",
    "# Explanation:\n",
    "# 1) a=10 : Declare variable named \"a' and assign/store integer value of 10 to it.\n",
    "# 2) b-20 : Declare variable named \"b' and assign/store integer value of 20 to it.\n",
    "# 3) a,b=b,a : Variable named a,b integer value is swapped with b,a witout using temporary variable using (=) assignment operator and (,) is used here to reduce no. of code lines.\n",
    "# 4) print(\"Value of a\",a) : Print swapped integer value of 'a' using print function, we get result a=20.\n",
    "# 5) print(\"Value of b\",b) : Print swapped integer value of 'b' using print function, we get result b=10.\"\"\""
   ]
  },
  {
   "cell_type": "code",
   "execution_count": null,
   "id": "9781bfa2-96a1-47ce-8ef4-b165ea99be16",
   "metadata": {},
   "outputs": [],
   "source": []
  },
  {
   "cell_type": "code",
   "execution_count": 9,
   "id": "d659c666-e2df-4c5b-be24-29400865b241",
   "metadata": {},
   "outputs": [
    {
     "name": "stdin",
     "output_type": "stream",
     "text": [
      "Enter the length of a rectangle: 10\n",
      "Enter the width of a rectangle: 20\n"
     ]
    },
    {
     "name": "stdout",
     "output_type": "stream",
     "text": [
      "Area of the given rectangle: 200.0\n"
     ]
    }
   ],
   "source": [
    "# 2. Create a program that calculates the area of a rectangle. Take the length and\n",
    "# width as inputs from the user and store them in variables. Calculate and\n",
    "# display the area.\n",
    "\n",
    "# User inputs length of  a rectangle \n",
    "l=float(input(\"Enter the length of a rectangle:\"))\n",
    "# User inputs width of a rectangle \n",
    "w=float(input(\"Enter the width of a rectangle:\"))\n",
    "# Calculating area of a rectangle\n",
    "area=l*w\n",
    "# Print area of a rectangle\n",
    "print(\"Area of the given rectangle:\",area)\n",
    "\n",
    "#Expalanation:\n",
    "# 1) Input functon [l=float(input(\"Enter the length of a rectangle:\"))] : User inputs length of a rectangle using input function, which is type casted to float data type and than stored to a varable named 'l'.\n",
    "# 2) Input function [w=float(input(\"Enter the width of a rectangle:\"))] : User inputs width of a rectangle using input function, which is type casted to float data type and than stored to a variable named 'w'.\n",
    "# 3) Formula calculation [area=l*w] : Area of a rectangle is calculated by multiplying value of 'l' with 'w' using 'area=l*w' where 'l' is length and 'w' is width of A rectangle and storing that result in a variable named 'area'.\n",
    "# 4) Print function [print(\"Area of the given rectangle:\",area)] : using print function the area of rectangle is printed. 'Area of the given rectangle is printed n the output window and 'area' variable displays area of rectangle value.\"\"\""
   ]
  },
  {
   "cell_type": "code",
   "execution_count": null,
   "id": "bda843ea-527d-4d42-9af7-ad0d25d0934d",
   "metadata": {},
   "outputs": [],
   "source": []
  },
  {
   "cell_type": "code",
   "execution_count": 10,
   "id": "65c88630-e29f-4cec-bb8e-999994c69559",
   "metadata": {},
   "outputs": [
    {
     "name": "stdin",
     "output_type": "stream",
     "text": [
      "Enter the temperature in degree Celsius: 10\n"
     ]
    },
    {
     "name": "stdout",
     "output_type": "stream",
     "text": [
      "10.00 degree Celsius is equivalent to 50.00 degree Fahrenheit\n"
     ]
    }
   ],
   "source": [
    "# 3. Write a Python program that converts temperatures from Celsius to\n",
    "# Fahrenheit. Take the temperature in Celsius as input, store it in a variable,\n",
    "# convert it to Fahrenheit, and display the result.\n",
    "\n",
    "# User enter input in Celsius\n",
    "Celsius=float(input(\"Enter the temperature in degree Celsius:\"))\n",
    "# Formula to calculate Fahrenheit\n",
    "Fahrenheit=(Celsius*1.8)+32\n",
    "# Print result\n",
    "print(\"%.2f degree Celsius is equivalent to %.2f degree Fahrenheit\" % (Celsius, Fahrenheit))\n",
    "\n",
    "# Explanation:\n",
    "# 1) Input function [Celsius=float(input(\"Enter the temperature in degree Celsius:\"))] : Input functon is used to get input from user in Celsius degree which is type casted to flating no. and store it in Celsius variale.\n",
    "# 2) Fahrenheit formula [Fahrenheit=(Celsius*1.8)+32] : Celcius degree is converted to Fahrenheit degree using ths formula where Celsius value multiplied to 1.8 and than add 32 to the result we get Fahrenheit degree.\n",
    "# 3) Print result [print(\"%.2f degree Celsius is equivalent to %.2f degree Fahrenheit\" % (Celsius, Fahrenheit))] : Print result using Print function, %.2f is a placeholder and displays 2 decimal points of a floating number & [% (Celsius, Fahrenheit)] ths is used to replace the placeholder with actual values of variable 'Celsius' & 'Fahrenheit'.\n"
   ]
  },
  {
   "cell_type": "code",
   "execution_count": null,
   "id": "1bd63d16-7852-46a7-88a4-a65b5eba1b7d",
   "metadata": {},
   "outputs": [],
   "source": []
  },
  {
   "cell_type": "code",
   "execution_count": 21,
   "id": "cdbf7155-7141-4f6f-9575-1ad852d3a505",
   "metadata": {},
   "outputs": [],
   "source": [
    "# TOPIC: String Based Questions"
   ]
  },
  {
   "cell_type": "code",
   "execution_count": 18,
   "id": "e26f7d9a-d704-4905-b939-921c1336b1fa",
   "metadata": {},
   "outputs": [
    {
     "name": "stdin",
     "output_type": "stream",
     "text": [
      "Enter a string: Ankith\n"
     ]
    },
    {
     "name": "stdout",
     "output_type": "stream",
     "text": [
      "Length of inputed string is 6\n"
     ]
    }
   ],
   "source": [
    "# 1. Write a Python program that takes a string as input and prints the length of\n",
    "# the string.\n",
    "\n",
    "# User input string \n",
    "string=input(\"Enter a string:\")\n",
    "# Print the length of string\n",
    "print(\"Length of inputed string is\", len(string))\n",
    "\n",
    "# Explanation:\n",
    "# Input function [string=input(\"Enter a string:\")] : User inputs a string using input function which s stored in a variable named string.\n",
    "# Print function [print(\"Length of inputed string is\", len(string))] : Length of a given string is calculated using [len(string)] and display result usng print function.\n"
   ]
  },
  {
   "cell_type": "code",
   "execution_count": null,
   "id": "a144ccdc-4520-4ef8-9f12-3485e0b087c8",
   "metadata": {},
   "outputs": [],
   "source": []
  },
  {
   "cell_type": "code",
   "execution_count": 19,
   "id": "f9942144-47de-4f6c-ab53-d80a51336567",
   "metadata": {},
   "outputs": [
    {
     "name": "stdin",
     "output_type": "stream",
     "text": [
      "Enter a sentence: Ankith is learning Data Science \n"
     ]
    },
    {
     "name": "stdout",
     "output_type": "stream",
     "text": [
      "Number of vowels in a given string: 11\n"
     ]
    }
   ],
   "source": [
    "# 2. Create a program that takes a sentence from the user and counts the number\n",
    "# of vowels (a, e, i, o, u) in the string.\n",
    "\n",
    "# Program to count number of vowels in a user input sentence\n",
    "\n",
    "# Get input from the user\n",
    "sentence=input(\"Enter a sentence:\")\n",
    "# Defining set of vowels for checking\n",
    "vowels=\"aeiouAEIOU\"\n",
    "# Initializing counter for vowels\n",
    "count=0\n",
    "# Iterates through each character in a sentence\n",
    "for char in sentence:\n",
    "    # Check if character is in vowels than increment counter by 1\n",
    "    if char in vowels:\n",
    "        count+=1\n",
    "        # Printing the total number of vowels\n",
    "print(\"Number of vowels in a given string:\",count)\n",
    "\n",
    "# Explanation:\n",
    "# 1) Input function [sentence=input(\"Enter a sentence:\")] : Input function is used to get input from the user and store it in a variable named 'sentence'.\n",
    "# 2) Variable declaration ['vowels=\"aeiouAEIOU\"] : A set of vowels string \"aeiouAEIOU\" is stored to a variable named 'vowels'.\n",
    "# 3) Counter Initialization [count=0] : Initlizing counter variable named 'count' to zero, which tracks the number of vowels in a sentence.\n",
    "# 4) For loop [for char in sentence]: : For loop is used to iterate through each character in a sentence using 'in' keyword and ':\" colon refers to beginning of the for loop.\n",
    "# 5) If statement [if char in vowels]: : If statement checks whether the character in a sentence is vowels using 'in keyword and ':\" colon refers to beginning of the if statement.\n",
    "# 6) Counter increment [count+=1] : If the character is vowel than the 'count is incremented by value 1.\n",
    "# 7) Printng result [print(\"Number of vowels in a given string:\",count)] : Printing the number of vowels in a sentence using print function where number of vowels is stored in \"count\" variable is printed.  \n",
    "\n",
    "        "
   ]
  },
  {
   "cell_type": "code",
   "execution_count": null,
   "id": "71a91a50-44df-42a9-8533-3f819ece17e1",
   "metadata": {},
   "outputs": [],
   "source": []
  },
  {
   "cell_type": "code",
   "execution_count": 51,
   "id": "fe246668-7468-4f95-b490-786128b71c4b",
   "metadata": {},
   "outputs": [
    {
     "name": "stdout",
     "output_type": "stream",
     "text": [
      "Reversed string: htiknA\n"
     ]
    }
   ],
   "source": [
    "# 3. Given a string, reverse the order of characters using string slicing and print\n",
    "# the reversed string.\n",
    "\n",
    "# String declaration\n",
    "a='Ankith'\n",
    "# Given string is reversed and stored in variable\n",
    "rev_string= a[::-1]\n",
    "# Display the reversed string\n",
    "print(\"Reversed string:\",rev_string)\n",
    "\n",
    "# Explanation:\n",
    "# Varible declaration [a='Ankith'] : Variable named 'a' stores the string vale 'Ankith' \n",
    "# String reverse  [rev_string= a[::-1]] : Given string which is stored in variable 'a' s reversed using slicing & 'a[::-1] here starting and ending index value is not declared and '-1' defines jumps index value by 1 in backward/negative string.\n",
    "# Print fnction [print(\"Reversed string:\",rev_string)] : Variable 'rev_string' stores the reversed string value and is displayed/prnt using Print function."
   ]
  },
  {
   "cell_type": "code",
   "execution_count": null,
   "id": "2648be4c-2bf2-44ef-b62c-66d98865bedc",
   "metadata": {},
   "outputs": [],
   "source": []
  },
  {
   "cell_type": "code",
   "execution_count": 68,
   "id": "fc7bec6d-2fba-4e6f-9ded-563ad3b6a540",
   "metadata": {},
   "outputs": [
    {
     "name": "stdin",
     "output_type": "stream",
     "text": [
      "Enter a string: AnkknA\n"
     ]
    },
    {
     "name": "stdout",
     "output_type": "stream",
     "text": [
      "Yes, Input string is a Palindrome!\n"
     ]
    }
   ],
   "source": [
    "# 4. Write a program that takes a string as input and checks if it is a palindrome\n",
    "# (reads the same forwards and backwards).\n",
    "\n",
    "# User inputs string\n",
    "input_string=input(\"Enter a string:\")\n",
    "# User input string is reversed\n",
    "reversed_string=input_string[::-1]\n",
    "# Check whether input string is equal to reverse string\n",
    "if input_string==reversed_string:\n",
    "    # If its a palindrome display below result\n",
    "    print(\"Yes, Input string is a Palindrome!\")\n",
    "else:\n",
    "    # If not a palindrome display below result\n",
    "    print(\"No, Input string is not a Palindrome!\")\n",
    "    \n",
    "# Explanation:\n",
    "# 1) Input function/ Varable declaration [input_string=input(\"Enter a string:\")] : User inputs string using input function and store that string in a variable named 'input_string'.\n",
    "# 2) Reverse string/[reversed_string=input_string[::-1]] : User inputted string is reversed using slicing and store that variable to 'reverse string'.\n",
    "# 3) Camparison operator & if statement [if input_string==reversed_string:] : Usimg if statement to check whether the input_string is equal to reverse_string or not and (:) colon shows the starting of if statement.\n",
    "# 4) Print function [print(\"Yes, Input string is a Palindrome!\")] : If the given input is Palindrome than displays this string.\n",
    "# 5} Else statement [else:] : Else statement is used in conjunction with if statemnet to s[ecify if the condition is not truw.\n",
    "# 6) Print function [print(\"No, Input string is not a Palindrome!\")] : If the given string is not a Palindrome than display this result string using print function.\n"
   ]
  },
  {
   "cell_type": "code",
   "execution_count": null,
   "id": "58aaaada-c900-45a5-9269-a8e655a554d6",
   "metadata": {},
   "outputs": [],
   "source": []
  },
  {
   "cell_type": "code",
   "execution_count": 74,
   "id": "4f1f4ef2-95e0-4caf-9b5f-c95ab0a1e938",
   "metadata": {},
   "outputs": [
    {
     "name": "stdin",
     "output_type": "stream",
     "text": [
      "Enter a string: Ankith is learning      Data Science\n"
     ]
    },
    {
     "name": "stdout",
     "output_type": "stream",
     "text": [
      "Modified string without spaces: AnkithislearningDataScience\n"
     ]
    }
   ],
   "source": [
    "# 5. Create a program that takes a string as input and removes all the spaces from\n",
    "# it. Print the modified string without spaces.\n",
    "\n",
    "# User enters string input\n",
    "input_string=input(\"Enter a string:\")\n",
    "# String spaces is removed\n",
    "modified_string=input_string.replace(\" \",\"\")\n",
    "# Print/Display the string without spaces\n",
    "print(\"Modified string without spaces:\", modified_string)\n",
    "\n",
    "# Explanation: \n",
    "# Input function/Variable declaration [input_string=input(\"Enter a string:\")] : User inputs the string using input function and store that string in variable named 'input_string'.\n",
    "# Spaces replaced [modified_string=input_string.replace(\" \",\"\")] : Variable 'input string' string data spaces is replaced wth no spaces/removed(any number of spaces) and store that data in 'modified_string' variable using (=) assignment operators.\n",
    "# Print function [print(\"Modified string without spaces:\", modified_string)] : Display result without spaces using print() function, where data in variable 'modified_string' is displayed.\n"
   ]
  },
  {
   "cell_type": "code",
   "execution_count": null,
   "id": "beb58f48-4f24-4852-900d-4b92fcd24679",
   "metadata": {},
   "outputs": [],
   "source": []
  }
 ],
 "metadata": {
  "kernelspec": {
   "display_name": "Python 3 (ipykernel)",
   "language": "python",
   "name": "python3"
  },
  "language_info": {
   "codemirror_mode": {
    "name": "ipython",
    "version": 3
   },
   "file_extension": ".py",
   "mimetype": "text/x-python",
   "name": "python",
   "nbconvert_exporter": "python",
   "pygments_lexer": "ipython3",
   "version": "3.10.8"
  }
 },
 "nbformat": 4,
 "nbformat_minor": 5
}
